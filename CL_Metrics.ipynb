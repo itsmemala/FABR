{
  "nbformat": 4,
  "nbformat_minor": 0,
  "metadata": {
    "colab": {
      "provenance": []
    },
    "kernelspec": {
      "name": "python3",
      "display_name": "Python 3"
    },
    "language_info": {
      "name": "python"
    }
  },
  "cells": [
    {
      "cell_type": "code",
      "execution_count": 1,
      "metadata": {
        "colab": {
          "base_uri": "https://localhost:8080/"
        },
        "id": "5DccffCSEm9u",
        "outputId": "68401c13-0d2d-4c63-c461-029b566e4e70"
      },
      "outputs": [
        {
          "output_type": "stream",
          "name": "stdout",
          "text": [
            "Mounted at /content/gdrive\n"
          ]
        }
      ],
      "source": [
        "from google.colab import drive\n",
        "drive.mount('/content/gdrive')"
      ]
    },
    {
      "cell_type": "code",
      "source": [
        "import numpy as np"
      ],
      "metadata": {
        "id": "_rxa-gh8E8hg"
      },
      "execution_count": 2,
      "outputs": []
    },
    {
      "cell_type": "code",
      "source": [
        "path = '/content/gdrive/MyDrive/s200_kan_myocc_attributions_lfa/s200r-TaskDrop/bert_dis_taskdrop_random'"
      ],
      "metadata": {
        "id": "AyHDP977FE-L"
      },
      "execution_count": 4,
      "outputs": []
    },
    {
      "cell_type": "code",
      "source": [
        "overall_f1 = []\n",
        "forgetting = []\n",
        "best_f1 = []\n",
        "worst_f1 = []\n",
        "for seed_idx in [101,2650,0]:\n",
        "    for rand_idx in range(7):\n",
        "        list_of_lists = []\n",
        "        with open(path+str(rand_idx)+'_seed'+str(seed_idx)+'_f1.txt', 'r') as f:\n",
        "            for line in f:\n",
        "                inner_list = [float(elt.strip()) for elt in line.split('\\t')]\n",
        "                list_of_lists.append(inner_list)\n",
        "        f1_matrix = np.array(list_of_lists)\n",
        "        assert f1_matrix.shape == (6,6)\n",
        "        # print(f1_matrix)\n",
        "        overall_f1.append(np.mean(f1_matrix[5,:]))\n",
        "        temp_forgetting = []\n",
        "        for i in range(5):\n",
        "            temp_forgetting.append(np.max(f1_matrix[i:-1,i])-f1_matrix[5,i])\n",
        "        forgetting.append(np.mean(temp_forgetting))\n",
        "        temp_best = []\n",
        "        for i in range(6):\n",
        "            temp_best.append(np.max(f1_matrix[i:,i]))\n",
        "        best_f1.append(np.mean(temp_best))\n",
        "        temp_worst = []\n",
        "        for i in range(6):\n",
        "            temp_worst.append(np.min(f1_matrix[i:,i]))\n",
        "        worst_f1.append(np.mean(temp_worst))\n",
        "assert len(overall_f1)==21\n",
        "assert len(forgetting)==21\n",
        "assert len(best_f1)==21\n",
        "assert len(worst_f1)==21"
      ],
      "metadata": {
        "id": "xSNnsRQ-FioB"
      },
      "execution_count": 20,
      "outputs": []
    },
    {
      "cell_type": "code",
      "source": [
        "print(np.mean(overall_f1), np.std(overall_f1))\n",
        "print(np.mean(forgetting))\n",
        "print(np.mean(best_f1))\n",
        "print(np.mean(worst_f1))"
      ],
      "metadata": {
        "colab": {
          "base_uri": "https://localhost:8080/"
        },
        "id": "mxrsTCw1G6w-",
        "outputId": "5a1aaad3-3eec-4526-aa6c-39b5c294f3f6"
      },
      "execution_count": 21,
      "outputs": [
        {
          "output_type": "stream",
          "name": "stdout",
          "text": [
            "0.7285690476190477 0.020463116442582894\n",
            "0.013445714285714292\n",
            "0.7439119047619048\n",
            "0.7114261904761905\n"
          ]
        }
      ]
    },
    {
      "cell_type": "code",
      "source": [
        "!unzip  /content/gdrive/MyDrive/s200_kan_myocc_attributions_lfa/s200r-CTR.zip"
      ],
      "metadata": {
        "id": "C10mEOruMmzj"
      },
      "execution_count": null,
      "outputs": []
    },
    {
      "cell_type": "code",
      "source": [
        "path2 =  's200r-CTR/bert_dis_ctr_random'"
      ],
      "metadata": {
        "id": "wKz_KXurNdI2"
      },
      "execution_count": 26,
      "outputs": []
    },
    {
      "cell_type": "code",
      "source": [
        "overall_f1_compare = []\n",
        "forgetting_compare = []\n",
        "best_f1_compare = []\n",
        "worst_f1_compare = []\n",
        "for seed_idx in [101,2650,0]:\n",
        "    for rand_idx in range(7):\n",
        "        list_of_lists = []\n",
        "        with open(path2+str(rand_idx)+'_seed'+str(seed_idx)+'_f1.txt', 'r') as f:\n",
        "            for line in f:\n",
        "                inner_list = [float(elt.strip()) for elt in line.split('\\t')]\n",
        "                list_of_lists.append(inner_list)\n",
        "        f1_matrix = np.array(list_of_lists)\n",
        "        assert f1_matrix.shape == (6,6)\n",
        "        # print(f1_matrix)\n",
        "        overall_f1_compare.append(np.mean(f1_matrix[5,:]))\n",
        "        temp_forgetting = []\n",
        "        for i in range(5):\n",
        "            temp_forgetting.append(np.max(f1_matrix[i:-1,i])-f1_matrix[5,i])\n",
        "        forgetting_compare.append(np.mean(temp_forgetting))\n",
        "        temp_best = []\n",
        "        for i in range(6):\n",
        "            temp_best.append(np.max(f1_matrix[i:,i]))\n",
        "        best_f1_compare.append(np.mean(temp_best))\n",
        "        temp_worst = []\n",
        "        for i in range(6):\n",
        "            temp_worst.append(np.min(f1_matrix[i:,i]))\n",
        "        worst_f1_compare.append(np.mean(temp_worst))\n",
        "assert len(overall_f1_compare)==21\n",
        "assert len(forgetting_compare)==21\n",
        "assert len(best_f1_compare)==21\n",
        "assert len(worst_f1_compare)==21"
      ],
      "metadata": {
        "id": "h3imUlpSNoq2"
      },
      "execution_count": 27,
      "outputs": []
    },
    {
      "cell_type": "code",
      "source": [
        "from scipy.stats import ttest_ind, ttest_rel"
      ],
      "metadata": {
        "id": "S5w_ZXwkOY2p"
      },
      "execution_count": 40,
      "outputs": []
    },
    {
      "cell_type": "code",
      "source": [
        "print(np.mean(forgetting_compare),np.mean(forgetting))"
      ],
      "metadata": {
        "colab": {
          "base_uri": "https://localhost:8080/"
        },
        "id": "oRS-sZfTWnEe",
        "outputId": "eb5e7ab5-c679-4fb5-f52e-68d400f02c14"
      },
      "execution_count": 49,
      "outputs": [
        {
          "output_type": "stream",
          "name": "stdout",
          "text": [
            "0.06213619047619047 0.013445714285714292\n"
          ]
        }
      ]
    },
    {
      "cell_type": "code",
      "source": [
        "res = ttest_rel(forgetting_compare,forgetting, alternative='greater')\n",
        "t = res[0]\n",
        "p = res[1]\n",
        "alpha = 0.1\n",
        "# test if A > B\n",
        "if p < alpha and t > 0:\n",
        "  # reject the null hypothesis (no effect) => A > B !!\n",
        "  print('Yes!')\n",
        "else:\n",
        "  # accept the null hypothesis => no effect\n",
        "  print('No!', p)"
      ],
      "metadata": {
        "colab": {
          "base_uri": "https://localhost:8080/"
        },
        "id": "7iQnO3IcU80i",
        "outputId": "4d71925e-f9e5-4f9b-b8f8-4539d343e3d8"
      },
      "execution_count": 48,
      "outputs": [
        {
          "output_type": "stream",
          "name": "stdout",
          "text": [
            "Yes!\n"
          ]
        }
      ]
    },
    {
      "cell_type": "code",
      "source": [
        "res = ttest_ind(forgetting_compare,forgetting)\n",
        "t = res[0]\n",
        "p = res[1]\n",
        "alpha = 0.1\n",
        "# test if A > B\n",
        "if p/2 < alpha and t>0:\n",
        "  # reject the null hypothesis (no effect) => A > B !!\n",
        "  print('Yes!')\n",
        "else:\n",
        "  # accept the null hypothesis => no effect\n",
        "  print('No!', p/2)"
      ],
      "metadata": {
        "colab": {
          "base_uri": "https://localhost:8080/"
        },
        "id": "Jh7C-PMYOo_X",
        "outputId": "6426dadb-6dee-4f72-e329-22095ef212a8"
      },
      "execution_count": 42,
      "outputs": [
        {
          "output_type": "stream",
          "name": "stdout",
          "text": [
            "Yes!\n"
          ]
        }
      ]
    }
  ]
}