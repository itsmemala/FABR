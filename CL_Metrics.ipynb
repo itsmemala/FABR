{
  "nbformat": 4,
  "nbformat_minor": 0,
  "metadata": {
    "colab": {
      "provenance": []
    },
    "kernelspec": {
      "name": "python3",
      "display_name": "Python 3"
    },
    "language_info": {
      "name": "python"
    }
  },
  "cells": [
    {
      "cell_type": "code",
      "execution_count": 1,
      "metadata": {
        "colab": {
          "base_uri": "https://localhost:8080/"
        },
        "id": "5DccffCSEm9u",
        "outputId": "f2e1c89a-5116-49a3-9d16-a7193907e406"
      },
      "outputs": [
        {
          "output_type": "stream",
          "name": "stdout",
          "text": [
            "Mounted at /content/gdrive\n"
          ]
        }
      ],
      "source": [
        "from google.colab import drive\n",
        "drive.mount('/content/gdrive')"
      ]
    },
    {
      "cell_type": "code",
      "source": [
        "import numpy as np"
      ],
      "metadata": {
        "id": "_rxa-gh8E8hg"
      },
      "execution_count": 2,
      "outputs": []
    },
    {
      "cell_type": "code",
      "source": [
        "!unzip  /content/gdrive/MyDrive/s200_kan_myocc_attributions_lfa/AnnoMIStr-RRR.zip"
      ],
      "metadata": {
        "id": "iFXFOz4rO-4G"
      },
      "execution_count": null,
      "outputs": []
    },
    {
      "cell_type": "code",
      "source": [
        "# path = '/content/gdrive/MyDrive/s200_kan_myocc_attributions_lfa/AnnoMIStr-RRR/annomi_bert_adapter_rrr_random'\n",
        "path = 'AnnoMIStr-RRR/annomi_bert_adapter_rrr_random'"
      ],
      "metadata": {
        "id": "AyHDP977FE-L"
      },
      "execution_count": 39,
      "outputs": []
    },
    {
      "cell_type": "code",
      "source": [
        "overall_f1 = []\n",
        "forgetting = []\n",
        "best_f1 = []\n",
        "worst_f1 = []\n",
        "for seed_idx in [101,2650,0]:\n",
        "    # for rand_idx in range(7):\n",
        "    for rand_idx in [0,2,10,12,13,14,15]:\n",
        "        list_of_lists = []\n",
        "        with open(path+str(rand_idx)+'_seed'+str(seed_idx)+'_f1.txt', 'r') as f:\n",
        "            for line in f:\n",
        "                inner_list = [float(elt.strip()) for elt in line.split('\\t')]\n",
        "                list_of_lists.append(inner_list)\n",
        "        f1_matrix = np.array(list_of_lists)\n",
        "        assert f1_matrix.shape == (6,6)\n",
        "        # print(f1_matrix)\n",
        "        if 'annomi' in path and 'rrr' in path and rand_idx==0:\n",
        "            print('modified for annomi')\n",
        "            overall_f1.append(np.mean(f1_matrix[3,:]))\n",
        "            temp_forgetting = []\n",
        "            for i in range(3):\n",
        "                temp_forgetting.append(np.max(f1_matrix[i:-3,i])-f1_matrix[3,i])\n",
        "            forgetting.append(np.mean(temp_forgetting))\n",
        "            temp_best = []\n",
        "            for i in range(4):\n",
        "                temp_best.append(np.max(f1_matrix[i:,i]))\n",
        "            best_f1.append(np.mean(temp_best))\n",
        "            temp_worst = []\n",
        "            for i in range(4):\n",
        "                temp_worst.append(np.min(f1_matrix[i:-2,i]))\n",
        "            worst_f1.append(np.mean(temp_worst))\n",
        "        else:\n",
        "            overall_f1.append(np.mean(f1_matrix[5,:]))\n",
        "            temp_forgetting = []\n",
        "            for i in range(5):\n",
        "                temp_forgetting.append(np.max(f1_matrix[i:-1,i])-f1_matrix[5,i])\n",
        "            forgetting.append(np.mean(temp_forgetting))\n",
        "            temp_best = []\n",
        "            for i in range(6):\n",
        "                temp_best.append(np.max(f1_matrix[i:,i]))\n",
        "            best_f1.append(np.mean(temp_best))\n",
        "            temp_worst = []\n",
        "            for i in range(6):\n",
        "                temp_worst.append(np.min(f1_matrix[i:,i]))\n",
        "            worst_f1.append(np.mean(temp_worst))\n",
        "assert len(overall_f1)==21\n",
        "assert len(forgetting)==21\n",
        "assert len(best_f1)==21\n",
        "assert len(worst_f1)==21"
      ],
      "metadata": {
        "colab": {
          "base_uri": "https://localhost:8080/"
        },
        "id": "xSNnsRQ-FioB",
        "outputId": "13d75378-ade6-41ff-e9e7-9ab54dc41db3"
      },
      "execution_count": 53,
      "outputs": [
        {
          "output_type": "stream",
          "name": "stdout",
          "text": [
            "modified for annomi\n",
            "modified for annomi\n",
            "modified for annomi\n"
          ]
        }
      ]
    },
    {
      "cell_type": "code",
      "source": [
        "overall_f1 = [val*100 for val in overall_f1]\n",
        "print(np.mean(overall_f1), np.std(overall_f1))\n",
        "print(np.mean(forgetting)*100)\n",
        "print(np.mean(best_f1)*100)\n",
        "print(np.mean(worst_f1)*100)"
      ],
      "metadata": {
        "colab": {
          "base_uri": "https://localhost:8080/"
        },
        "id": "mxrsTCw1G6w-",
        "outputId": "84e5a8dc-48d2-405f-b146-111182838299"
      },
      "execution_count": 54,
      "outputs": [
        {
          "output_type": "stream",
          "name": "stdout",
          "text": [
            "41.260238095238094 6.259848585100923\n",
            "9.12342857142857\n",
            "51.30793650793651\n",
            "40.537222222222226\n"
          ]
        }
      ]
    },
    {
      "cell_type": "code",
      "source": [
        "!unzip  /content/gdrive/MyDrive/s200_kan_myocc_attributions_lfa/AnnoMIStr-Replay.zip"
      ],
      "metadata": {
        "id": "C10mEOruMmzj"
      },
      "execution_count": null,
      "outputs": []
    },
    {
      "cell_type": "code",
      "source": [
        "# path2 = '/content/gdrive/MyDrive/s200_kan_myocc_attributions_lfa/s200r-Replay/bert_dis_bert_fine_tune_random'\n",
        "path2 = 'AnnoMIStr-Replay/annomi_bert_adapter_replay_random'"
      ],
      "metadata": {
        "id": "wKz_KXurNdI2"
      },
      "execution_count": 46,
      "outputs": []
    },
    {
      "cell_type": "code",
      "source": [
        "overall_f1_compare = []\n",
        "forgetting_compare = []\n",
        "best_f1_compare = []\n",
        "worst_f1_compare = []\n",
        "for seed_idx in [101,2650,0]:\n",
        "    # for rand_idx in range(7):\n",
        "    for rand_idx in [0,2,10,12,13,14,15]:\n",
        "        list_of_lists = []\n",
        "        with open(path2+str(rand_idx)+'_seed'+str(seed_idx)+'_f1.txt', 'r') as f:\n",
        "            for line in f:\n",
        "                inner_list = [float(elt.strip()) for elt in line.split('\\t')]\n",
        "                list_of_lists.append(inner_list)\n",
        "        f1_matrix = np.array(list_of_lists)\n",
        "        assert f1_matrix.shape == (6,6)\n",
        "        # print(f1_matrix)\n",
        "        if 'annomi' in path2 and 'replay' in path2 and rand_idx==0:\n",
        "            print('modified for annomi')\n",
        "            overall_f1_compare.append(np.mean(f1_matrix[3,:]))\n",
        "            temp_forgetting = []\n",
        "            for i in range(3):\n",
        "                temp_forgetting.append(np.max(f1_matrix[i:-3,i])-f1_matrix[3,i])\n",
        "            forgetting_compare.append(np.mean(temp_forgetting))\n",
        "            temp_best = []\n",
        "            for i in range(4):\n",
        "                temp_best.append(np.max(f1_matrix[i:,i]))\n",
        "            best_f1_compare.append(np.mean(temp_best))\n",
        "            temp_worst = []\n",
        "            for i in range(4):\n",
        "                temp_worst.append(np.min(f1_matrix[i:-2,i]))\n",
        "            worst_f1_compare.append(np.mean(temp_worst))\n",
        "        else:\n",
        "            overall_f1_compare.append(np.mean(f1_matrix[5,:]))\n",
        "            temp_forgetting = []\n",
        "            for i in range(5):\n",
        "                temp_forgetting.append(np.max(f1_matrix[i:-1,i])-f1_matrix[5,i])\n",
        "            forgetting_compare.append(np.mean(temp_forgetting))\n",
        "            temp_best = []\n",
        "            for i in range(6):\n",
        "                temp_best.append(np.max(f1_matrix[i:,i]))\n",
        "            best_f1_compare.append(np.mean(temp_best))\n",
        "            temp_worst = []\n",
        "            for i in range(6):\n",
        "                temp_worst.append(np.min(f1_matrix[i:,i]))\n",
        "            worst_f1_compare.append(np.mean(temp_worst))\n",
        "assert len(overall_f1_compare)==21\n",
        "assert len(forgetting_compare)==21\n",
        "assert len(best_f1_compare)==21\n",
        "assert len(worst_f1_compare)==21"
      ],
      "metadata": {
        "colab": {
          "base_uri": "https://localhost:8080/"
        },
        "id": "h3imUlpSNoq2",
        "outputId": "7b5d38a7-d08e-44f8-a1dd-4144940d9344"
      },
      "execution_count": 50,
      "outputs": [
        {
          "output_type": "stream",
          "name": "stdout",
          "text": [
            "modified for annomi\n",
            "modified for annomi\n",
            "modified for annomi\n"
          ]
        }
      ]
    },
    {
      "cell_type": "code",
      "source": [
        "overall_f1_compare = [val*100 for val in overall_f1_compare]\n",
        "print(np.mean(overall_f1_compare), np.std(overall_f1_compare))\n",
        "print(np.mean(forgetting_compare)*100)\n",
        "print(np.mean(best_f1_compare)*100)\n",
        "print(np.mean(worst_f1_compare)*100)"
      ],
      "metadata": {
        "colab": {
          "base_uri": "https://localhost:8080/"
        },
        "id": "vKOB_IErdB_I",
        "outputId": "86bffeb5-9594-4585-81a8-9ccfcd88e737"
      },
      "execution_count": 51,
      "outputs": [
        {
          "output_type": "stream",
          "name": "stdout",
          "text": [
            "41.08690476190476 6.529120023145844\n",
            "9.248\n",
            "51.508531746031736\n",
            "40.304523809523815\n"
          ]
        }
      ]
    },
    {
      "cell_type": "code",
      "source": [
        "from scipy.stats import ttest_ind, ttest_rel"
      ],
      "metadata": {
        "id": "S5w_ZXwkOY2p"
      },
      "execution_count": 17,
      "outputs": []
    },
    {
      "cell_type": "code",
      "source": [
        "res = ttest_rel(overall_f1,overall_f1_compare, alternative='greater')\n",
        "t = res[0]\n",
        "p = res[1]\n",
        "alpha = 0.1\n",
        "# test if A > B\n",
        "if p < alpha and t > 0:\n",
        "  # reject the null hypothesis (no effect) => A > B !!\n",
        "  print('Yes!', p)\n",
        "else:\n",
        "  # accept the null hypothesis => no effect\n",
        "  print('No!', p)"
      ],
      "metadata": {
        "colab": {
          "base_uri": "https://localhost:8080/"
        },
        "id": "7iQnO3IcU80i",
        "outputId": "4c422625-ef91-4273-92e1-4c02cb475d05"
      },
      "execution_count": 55,
      "outputs": [
        {
          "output_type": "stream",
          "name": "stdout",
          "text": [
            "No! 0.387561459077015\n"
          ]
        }
      ]
    },
    {
      "cell_type": "code",
      "source": [
        "res = ttest_ind(forgetting_compare,forgetting)\n",
        "t = res[0]\n",
        "p = res[1]\n",
        "alpha = 0.1\n",
        "# test if A > B\n",
        "if p/2 < alpha and t>0:\n",
        "  # reject the null hypothesis (no effect) => A > B !!\n",
        "  print('Yes!')\n",
        "else:\n",
        "  # accept the null hypothesis => no effect\n",
        "  print('No!', p/2)"
      ],
      "metadata": {
        "colab": {
          "base_uri": "https://localhost:8080/"
        },
        "id": "Jh7C-PMYOo_X",
        "outputId": "6426dadb-6dee-4f72-e329-22095ef212a8"
      },
      "execution_count": 42,
      "outputs": [
        {
          "output_type": "stream",
          "name": "stdout",
          "text": [
            "Yes!\n"
          ]
        }
      ]
    }
  ]
}