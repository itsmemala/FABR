{
 "cells": [
  {
   "cell_type": "code",
   "execution_count": 1,
   "metadata": {
    "colab": {
     "base_uri": "https://localhost:8080/"
    },
    "id": "5DccffCSEm9u",
    "outputId": "8383d8ae-2385-4583-ec44-948d15606f2d"
   },
   "outputs": [
    {
     "name": "stdout",
     "output_type": "stream",
     "text": [
      "Mounted at /content/gdrive\n"
     ]
    }
   ],
   "source": [
    "from google.colab import drive\n",
    "drive.mount('/content/gdrive')"
   ]
  },
  {
   "cell_type": "code",
   "execution_count": 2,
   "metadata": {
    "id": "_rxa-gh8E8hg"
   },
   "outputs": [],
   "source": [
    "import numpy as np"
   ]
  },
  {
   "cell_type": "code",
   "execution_count": null,
   "metadata": {
    "colab": {
     "base_uri": "https://localhost:8080/"
    },
    "id": "iFXFOz4rO-4G",
    "outputId": "372f90a8-8add-4ed4-fa71-22b9fc23aab1"
   },
   "outputs": [
    {
     "name": "stdout",
     "output_type": "stream",
     "text": [
      "unzip:  cannot find or open /content/gdrive/MyDrive/s200_kan_myocc_attributions_lfa/s200r-EWCFreeze-v2.5.zip, /content/gdrive/MyDrive/s200_kan_myocc_attributions_lfa/s200r-EWCFreeze-v2.5.zip.zip or /content/gdrive/MyDrive/s200_kan_myocc_attributions_lfa/s200r-EWCFreeze-v2.5.zip.ZIP.\n"
     ]
    }
   ],
   "source": [
    "!unzip  /content/gdrive/MyDrive/s200_kan_myocc_attributions_lfa/s200r-EWCFreeze-v2.5.zip"
   ]
  },
  {
   "cell_type": "code",
   "execution_count": 3,
   "metadata": {
    "id": "AyHDP977FE-L"
   },
   "outputs": [],
   "source": [
    "path = '/content/gdrive/MyDrive/s200_kan_myocc_attributions_lfa/AnnoMIStrME4-MAS.2Freeze-v17.2.1/annomi_bert_adapter_ewc_freeze_random'\n",
    "# path = 's200r-EWCFreeze-v2.5/bert_dis_bert_adapter_ewc_freeze_random'"
   ]
  },
  {
   "cell_type": "code",
   "execution_count": 4,
   "metadata": {
    "id": "sgNlDbu1zP9W"
   },
   "outputs": [],
   "source": [
    "pathb = '/content/gdrive/MyDrive/s200_kan_myocc_attributions_lfa/AnnoMIStrME4-AdapterSEQ-copy/annomi_bert_adapter_seq_random'"
   ]
  },
  {
   "cell_type": "markdown",
   "metadata": {
    "id": "Nx2oHlhzlVOf"
   },
   "source": [
    "### Best F1 Analysis"
   ]
  },
  {
   "cell_type": "code",
   "execution_count": null,
   "metadata": {
    "colab": {
     "base_uri": "https://localhost:8080/"
    },
    "id": "xGo6BamNBcKA",
    "outputId": "9acde819-011f-4c4b-fbc0-3ae04d831c60"
   },
   "outputs": [
    {
     "name": "stdout",
     "output_type": "stream",
     "text": [
      "0.8761904761904762\n",
      "kt tasks: Counter({3: 5, 2: 4, 0: 4})\n",
      "overfit tasks: Counter({1: 21, 4: 21, 0: 17, 2: 17, 3: 16})\n"
     ]
    }
   ],
   "source": [
    "from collections import Counter\n",
    "# EWC/CTR/SEQ: check best f1 location\n",
    "best_f1_location_check = []\n",
    "overfit_task = []\n",
    "kt_task = []\n",
    "for seed_idx in [101,2650,0]:\n",
    "    for rand_idx in range(7):\n",
    "        list_of_lists = []\n",
    "        with open(path+str(rand_idx)+'_seed'+str(seed_idx)+'_f1.txt', 'r') as f:\n",
    "            for line in f:\n",
    "                inner_list = [float(elt.strip()) for elt in line.split('\\t')]\n",
    "                list_of_lists.append(inner_list)\n",
    "        f1_matrix = np.array(list_of_lists)\n",
    "        assert f1_matrix.shape == (6,6)\n",
    "        temp_best = []\n",
    "        for i in range(5): # Exclude the last task\n",
    "            location = np.argmax(f1_matrix[i:,i])\n",
    "            best_f1_location_check.append(location==0)\n",
    "            if location==0:\n",
    "                overfit_task.append(i)\n",
    "            if location!=0:\n",
    "                kt_task.append(i)\n",
    "print(np.mean(best_f1_location_check))\n",
    "print('kt tasks:',Counter(kt_task))\n",
    "print('overfit tasks:',Counter(overfit_task))"
   ]
  },
  {
   "cell_type": "markdown",
   "metadata": {
    "id": "2WNXtwV-lS6h"
   },
   "source": [
    "### Metrics"
   ]
  },
  {
   "cell_type": "code",
   "execution_count": 5,
   "metadata": {
    "colab": {
     "base_uri": "https://localhost:8080/"
    },
    "id": "xSNnsRQ-FioB",
    "outputId": "9df0e666-6613-48cb-c36d-ce2863174548"
   },
   "outputs": [
    {
     "name": "stdout",
     "output_type": "stream",
     "text": [
      "[[0.5947 0.     0.     0.     0.     0.    ]\n",
      " [0.598  0.6272 0.     0.     0.     0.    ]\n",
      " [0.6184 0.6063 0.5225 0.     0.     0.    ]\n",
      " [0.6169 0.5916 0.4425 0.5967 0.     0.    ]\n",
      " [0.6169 0.5916 0.4425 0.5967 0.5194 0.    ]\n",
      " [0.6156 0.5916 0.4425 0.5967 0.5194 0.3929]]\n",
      "[[0.5168 0.     0.     0.     0.     0.    ]\n",
      " [0.4908 0.3579 0.     0.     0.     0.    ]\n",
      " [0.4908 0.4051 0.4739 0.     0.     0.    ]\n",
      " [0.5168 0.4156 0.5469 0.4626 0.     0.    ]\n",
      " [0.5168 0.415  0.5076 0.4947 0.3539 0.    ]\n",
      " [0.5168 0.412  0.5469 0.5036 0.3673 0.4441]]\n",
      "[[0.6033 0.     0.     0.     0.     0.    ]\n",
      " [0.5177 0.4719 0.     0.     0.     0.    ]\n",
      " [0.4766 0.4581 0.4705 0.     0.     0.    ]\n",
      " [0.3769 0.4371 0.4955 0.521  0.     0.    ]\n",
      " [0.4363 0.4581 0.4561 0.4805 0.3872 0.    ]\n",
      " [0.4363 0.4581 0.4561 0.4805 0.3775 0.4866]]\n",
      "[[0.4491 0.     0.     0.     0.     0.    ]\n",
      " [0.4874 0.5596 0.     0.     0.     0.    ]\n",
      " [0.5151 0.5072 0.6122 0.     0.     0.    ]\n",
      " [0.5034 0.5451 0.5692 0.4454 0.     0.    ]\n",
      " [0.4919 0.5516 0.5692 0.4454 0.5218 0.    ]\n",
      " [0.5016 0.47   0.515  0.4313 0.4844 0.4818]]\n",
      "[[0.4231 0.     0.     0.     0.     0.    ]\n",
      " [0.4237 0.3717 0.     0.     0.     0.    ]\n",
      " [0.3489 0.3715 0.5896 0.     0.     0.    ]\n",
      " [0.3814 0.3736 0.5744 0.4353 0.     0.    ]\n",
      " [0.3698 0.3845 0.5778 0.4353 0.3688 0.    ]\n",
      " [0.39   0.3845 0.5848 0.4353 0.3735 0.4093]]\n",
      "[[0.3798 0.     0.     0.     0.     0.    ]\n",
      " [0.16   0.6798 0.     0.     0.     0.    ]\n",
      " [0.1562 0.5254 0.4398 0.     0.     0.    ]\n",
      " [0.1818 0.5191 0.3846 0.5641 0.     0.    ]\n",
      " [0.1633 0.487  0.4404 0.4131 0.3429 0.    ]\n",
      " [0.182  0.487  0.4404 0.4235 0.3824 0.5043]]\n",
      "[[0.5338 0.     0.     0.     0.     0.    ]\n",
      " [0.4338 0.5134 0.     0.     0.     0.    ]\n",
      " [0.4807 0.4472 0.556  0.     0.     0.    ]\n",
      " [0.4756 0.3504 0.4661 0.4717 0.     0.    ]\n",
      " [0.4814 0.3579 0.4354 0.5322 0.4861 0.    ]\n",
      " [0.4597 0.3624 0.4545 0.4332 0.4838 0.474 ]]\n",
      "[[0.3939 0.     0.     0.     0.     0.    ]\n",
      " [0.7143 0.4557 0.     0.     0.     0.    ]\n",
      " [0.6932 0.4013 0.5465 0.     0.     0.    ]\n",
      " [0.6932 0.3069 0.4539 0.4971 0.     0.    ]\n",
      " [0.6932 0.3069 0.4712 0.4971 0.3817 0.    ]\n",
      " [0.6932 0.2804 0.4516 0.429  0.377  0.4586]]\n",
      "[[0.4375 0.     0.     0.     0.     0.    ]\n",
      " [0.3436 0.4481 0.     0.     0.     0.    ]\n",
      " [0.366  0.6548 0.4586 0.     0.     0.    ]\n",
      " [0.424  0.6514 0.4454 0.4707 0.     0.    ]\n",
      " [0.4452 0.6137 0.4556 0.4836 0.394  0.    ]\n",
      " [0.4465 0.6329 0.4556 0.4836 0.394  0.4172]]\n",
      "9\n"
     ]
    }
   ],
   "source": [
    "overall_f1 = []\n",
    "forgetting = []\n",
    "best_f1 = []\n",
    "worst_f1 = []\n",
    "# for seed_idx in [0]:\n",
    "for seed_idx in [0,101,2650]:\n",
    "    # for rand_idx in range(7):\n",
    "    # for rand_idx in [0,2,10,12,13,14,15]:\n",
    "    # for rand_idx in [0,3,6]:\n",
    "    for rand_idx in [0,10,13]:\n",
    "    # for rand_idx in [0]:\n",
    "        list_of_lists = []\n",
    "        with open(path+str(rand_idx)+'_seed'+str(seed_idx)+'_f1.txt', 'r') as f:\n",
    "            for line in f:\n",
    "                inner_list = [float(elt.strip()) for elt in line.split('\\t')]\n",
    "                list_of_lists.append(inner_list)\n",
    "        f1_matrix = np.array(list_of_lists)\n",
    "        assert f1_matrix.shape == (6,6)\n",
    "        print(f1_matrix)\n",
    "        # if 'annomi' in path and 'rrr' in path and rand_idx==0:\n",
    "            # print('modified for annomi')\n",
    "            # overall_f1.append(np.mean(f1_matrix[3,:]))\n",
    "            # temp_forgetting = []\n",
    "            # for i in range(3):\n",
    "            #     temp_forgetting.append(np.max(f1_matrix[i:-3,i])-f1_matrix[3,i])\n",
    "            # forgetting.append(np.mean(temp_forgetting))\n",
    "            # temp_best = []\n",
    "            # for i in range(4):\n",
    "            #     temp_best.append(np.max(f1_matrix[i:,i]))\n",
    "            # best_f1.append(np.mean(temp_best))\n",
    "            # temp_worst = []\n",
    "            # for i in range(4):\n",
    "            #     temp_worst.append(np.min(f1_matrix[i:-2,i]))\n",
    "            # worst_f1.append(np.mean(temp_worst))\n",
    "        # else:\n",
    "        overall_f1.append(np.mean(f1_matrix[5,:]))\n",
    "        temp_forgetting = []\n",
    "        for i in range(5):\n",
    "            temp_forgetting.append(np.max(f1_matrix[i:-1,i])-f1_matrix[5,i])\n",
    "        forgetting.append(np.mean(temp_forgetting))\n",
    "        temp_best = []\n",
    "        for i in range(6):\n",
    "            temp_best.append(np.max(f1_matrix[i:,i]))\n",
    "        best_f1.append(np.mean(temp_best))\n",
    "        temp_worst = []\n",
    "        for i in range(6):\n",
    "            temp_worst.append(np.min(f1_matrix[i:,i]))\n",
    "        worst_f1.append(np.mean(temp_worst))\n",
    "# assert len(overall_f1)==21\n",
    "# assert len(forgetting)==21\n",
    "# assert len(best_f1)==21\n",
    "# assert len(worst_f1)==21\n",
    "print(len(overall_f1))"
   ]
  },
  {
   "cell_type": "code",
   "execution_count": 6,
   "metadata": {
    "colab": {
     "base_uri": "https://localhost:8080/"
    },
    "id": "mxrsTCw1G6w-",
    "outputId": "967b7e47-b4c9-4ef4-bf21-0bf13dec381e"
   },
   "outputs": [
    {
     "name": "stdout",
     "output_type": "stream",
     "text": [
      "45.76444444444445 3.264436124337029\n",
      "4.362222222222222\n",
      "49.525185185185194\n",
      "43.48833333333334\n"
     ]
    }
   ],
   "source": [
    "overall_f1 = [val*100 for val in overall_f1]\n",
    "print(np.mean(overall_f1), np.std(overall_f1))\n",
    "print(np.mean(forgetting)*100)\n",
    "print(np.mean(best_f1)*100)\n",
    "print(np.mean(worst_f1)*100)"
   ]
  },
  {
   "cell_type": "markdown",
   "metadata": {
    "id": "PQ7D0HGjeLFm"
   },
   "source": [
    "### Diaz+Chaudhary Metrics"
   ]
  },
  {
   "cell_type": "code",
   "execution_count": null,
   "metadata": {
    "id": "PIsBF9j8kAQb"
   },
   "outputs": [],
   "source": [
    "mtl = [0.8558,0.8918,0.8365,0.9120,0.8918,0.8038,0.9120]"
   ]
  },
  {
   "cell_type": "code",
   "execution_count": 7,
   "metadata": {
    "colab": {
     "base_uri": "https://localhost:8080/"
    },
    "id": "uDlPIUVkeKL8",
    "outputId": "f1dd4b1a-1161-4c25-aefc-84d4cf9f2cbc"
   },
   "outputs": [
    {
     "name": "stdout",
     "output_type": "stream",
     "text": [
      "9\n"
     ]
    }
   ],
   "source": [
    "overall_f1 = []\n",
    "bwt1 = []\n",
    "bwt2 = []\n",
    "bwt3 = []\n",
    "pbwt3 = []\n",
    "p2bwt3 = []\n",
    "fwt = []\n",
    "# rem = []\n",
    "# pbwt = []\n",
    "# intra = []\n",
    "# for seed_idx in [0]:\n",
    "for seed_idx in [101,2650,0]:\n",
    "    mtl_idx=0\n",
    "    # for rand_idx in range(7):\n",
    "    # for rand_idx in [0,3,6]:\n",
    "    for rand_idx in [0,10,13]:\n",
    "    # for rand_idx in [0,2,10,12,13,14,15]:\n",
    "        list_of_lists = []\n",
    "        with open(path+str(rand_idx)+'_seed'+str(seed_idx)+'_f1.txt', 'r') as f:\n",
    "            for line in f:\n",
    "                inner_list = [float(elt.strip()) for elt in line.split('\\t')]\n",
    "                list_of_lists.append(inner_list)\n",
    "        f1_matrix = np.array(list_of_lists)\n",
    "        assert f1_matrix.shape == (6,6)\n",
    "        # print(f1_matrix)\n",
    "        temp_acc = []\n",
    "        for i in range(6):\n",
    "            temp_acc.append(np.mean(f1_matrix[i,:i+1]))\n",
    "        overall_f1.append(np.mean(temp_acc))\n",
    "        temp_bwt1 = []\n",
    "        for i in [1,2,3,4,5]:\n",
    "            for j in range(0,i):\n",
    "                temp_bwt1.append(f1_matrix[i,j]-f1_matrix[j,j])\n",
    "        bwt1.append(np.mean(temp_bwt1))\n",
    "        temp_bwt2 = []\n",
    "        for i in [1,2,3,4,5]:\n",
    "            for j in range(0,i):\n",
    "                temp_bwt2.append(f1_matrix[i,j]-np.max([f1_matrix[k,j] for k in range(j,i)]))\n",
    "                # print(i,j,[f1_matrix[k,j] for k in range(j,i)])\n",
    "        bwt2.append(np.mean(temp_bwt2))\n",
    "        temp_bwt3 = []\n",
    "        for i in [1,2,3,4,5]:\n",
    "            for j in range(0,i):\n",
    "                temp_bwt3.append(f1_matrix[i,j]-f1_matrix[i-1,j])\n",
    "        bwt3.append(np.mean(temp_bwt3))\n",
    "        #################################################################\n",
    "        temp_pbwt3 = []\n",
    "        for i in [1,2,3,4,5]:\n",
    "            for j in range(0,i):\n",
    "                temp_pbwt3.append(np.maximum(f1_matrix[i,j]-f1_matrix[i-1,j],0))\n",
    "        pbwt3.append(np.mean(temp_pbwt3))\n",
    "        temp_p2bwt3 = []\n",
    "        for i in [1,2,3,4,5]:\n",
    "            for j in range(0,i):\n",
    "                temp_p2bwt3.append(np.maximum(f1_matrix[i,j]-f1_matrix[i-1,j],0))\n",
    "        check = sum([True if val>0 else False for val in temp_p2bwt3])\n",
    "        if check>0:\n",
    "            p2bwt3.append(np.true_divide(sum(temp_p2bwt3),check))\n",
    "        else:\n",
    "            p2bwt3.append(0)\n",
    "        # rem.append(1-\n",
    "        #            np.absolute(\n",
    "        #                np.minimum(np.mean(temp_bwt),0)\n",
    "        #                )\n",
    "        #            )\n",
    "        # pbwt.append(np.maximum(np.mean(temp_bwt),0))\n",
    "        # intra.append(mtl[mtl_idx]-f1_matrix[5,5])\n",
    "        # mtl_idx+=1\n",
    "        list_of_lists = []\n",
    "        with open(pathb+str(rand_idx)+'_seed'+str(seed_idx)+'_f1.txt', 'r') as f:\n",
    "            for line in f:\n",
    "                inner_list = [float(elt.strip()) for elt in line.split('\\t')]\n",
    "                list_of_lists.append(inner_list)\n",
    "        f1_matrix_seq = np.array(list_of_lists)\n",
    "        temp_fwt = []\n",
    "        for i in [1,2,3,4,5]:\n",
    "            temp_fwt.append(f1_matrix[i,i]-f1_matrix_seq[i,i])\n",
    "        fwt.append(np.mean(temp_fwt))\n",
    "# assert len(overall_f1)==21\n",
    "# assert len(bwt)==21\n",
    "# assert len(rem)==21\n",
    "# assert len(pbwt)==21\n",
    "# assert len(intra)==21\n",
    "print(len(overall_f1))"
   ]
  },
  {
   "cell_type": "code",
   "execution_count": 8,
   "metadata": {
    "colab": {
     "base_uri": "https://localhost:8080/"
    },
    "id": "3FEnJnTJf21i",
    "outputId": "0fdc657b-753f-49b7-b90b-5322301ce37b"
   },
   "outputs": [
    {
     "name": "stdout",
     "output_type": "stream",
     "text": [
      "47.50148456790124 4.706480691923463\n",
      "-2.299333333333333\n",
      "-4.300740740740741\n",
      "-0.7876296296296292\n",
      "1.1591851851851853\n",
      "4.2151759259259265\n",
      "-3.3048888888888883\n"
     ]
    }
   ],
   "source": [
    "overall_f1 = [val*100 for val in overall_f1]\n",
    "print(np.mean(overall_f1), np.std(overall_f1))\n",
    "print(np.mean(bwt1)*100)\n",
    "print(np.mean(bwt2)*100)\n",
    "print(np.mean(bwt3)*100)\n",
    "print(np.mean(pbwt3)*100)\n",
    "print(np.mean(p2bwt3)*100)\n",
    "print(np.mean(fwt)*100)\n",
    "# print(np.mean(rem)*100)\n",
    "# print(np.mean(pbwt)*100)\n",
    "# print(np.mean(intra)*100)"
   ]
  },
  {
   "cell_type": "markdown",
   "metadata": {
    "id": "sGclk8rhlZxs"
   },
   "source": [
    "### Significance Test"
   ]
  },
  {
   "cell_type": "code",
   "execution_count": 5,
   "metadata": {},
   "outputs": [],
   "source": [
    "import numpy as np"
   ]
  },
  {
   "cell_type": "code",
   "execution_count": 49,
   "metadata": {},
   "outputs": [],
   "source": [
    "path = 'D:\\\\2110465-PhD Data (DO NOT DELETE)\\\\Sentiment-MultiHead\\\\s200rME4-MAS\\\\s200rME4-MAS\\\\bert_dis_bert_adapter_ewc_random'\n",
    "path2 = 'D:\\\\2110465-PhD Data (DO NOT DELETE)\\\\Sentiment-MultiHead\\\\s200rME4-MAScFreeze-v17.2\\\\s200rME4-MAScFreeze-v17.2\\\\bert_dis_bert_adapter_ewc_freeze_random'"
   ]
  },
  {
   "cell_type": "code",
   "execution_count": 50,
   "metadata": {},
   "outputs": [
    {
     "name": "stdout",
     "output_type": "stream",
     "text": [
      "9\n",
      "9\n"
     ]
    }
   ],
   "source": [
    "overall_f1 = []\n",
    "# for seed_idx in [0]:\n",
    "for seed_idx in [0,101,2650]:\n",
    "    for rand_idx in [0,3,6]:\n",
    "#     for rand_idx in [0,10,13]:\n",
    "        list_of_lists = []\n",
    "        with open(path+str(rand_idx)+'_seed'+str(seed_idx)+'_f1.txt', 'r') as f:\n",
    "            for line in f:\n",
    "                inner_list = [float(elt.strip()) for elt in line.split('\\t')]\n",
    "                list_of_lists.append(inner_list)\n",
    "        f1_matrix = np.array(list_of_lists)\n",
    "        assert f1_matrix.shape == (6,6)\n",
    "#         overall_f1 += list(f1_matrix[5,:])\n",
    "        overall_f1.append(np.mean(f1_matrix[5,:]))\n",
    "print(len(overall_f1))\n",
    "\n",
    "overall_f1_compare = []\n",
    "# for seed_idx in [0]:\n",
    "for seed_idx in [101,2650,0]:\n",
    "    for rand_idx in [0,3,6]:\n",
    "#     for rand_idx in [0,10,13]:\n",
    "        list_of_lists = []\n",
    "        with open(path2+str(rand_idx)+'_seed'+str(seed_idx)+'_f1.txt', 'r') as f:\n",
    "            for line in f:\n",
    "                inner_list = [float(elt.strip()) for elt in line.split('\\t')]\n",
    "                list_of_lists.append(inner_list)\n",
    "        f1_matrix = np.array(list_of_lists)\n",
    "        assert f1_matrix.shape == (6,6)\n",
    "#         overall_f1_compare += list(f1_matrix[5,:])\n",
    "        overall_f1_compare.append(np.mean(f1_matrix[5,:]))\n",
    "print(len(overall_f1_compare))"
   ]
  },
  {
   "cell_type": "code",
   "execution_count": 11,
   "metadata": {
    "id": "S5w_ZXwkOY2p"
   },
   "outputs": [],
   "source": [
    "from scipy.stats import ttest_ind, ttest_rel"
   ]
  },
  {
   "cell_type": "code",
   "execution_count": 51,
   "metadata": {
    "colab": {
     "base_uri": "https://localhost:8080/"
    },
    "id": "7iQnO3IcU80i",
    "outputId": "335ac788-4235-455d-8bde-d5c87ed38108"
   },
   "outputs": [
    {
     "name": "stdout",
     "output_type": "stream",
     "text": [
      "No! 0.1447151111763211\n"
     ]
    }
   ],
   "source": [
    "res = ttest_rel(overall_f1_compare,overall_f1, alternative='greater')\n",
    "t = res[0]\n",
    "p = res[1]\n",
    "alpha = 0.1\n",
    "# test if A > B\n",
    "if p < alpha and t > 0:\n",
    "  # reject the null hypothesis (no effect) => A > B !!\n",
    "  print('Yes!', p)\n",
    "else:\n",
    "  # accept the null hypothesis => no effect\n",
    "  print('No!', p)"
   ]
  },
  {
   "cell_type": "code",
   "execution_count": 52,
   "metadata": {
    "colab": {
     "base_uri": "https://localhost:8080/"
    },
    "id": "Jh7C-PMYOo_X",
    "outputId": "6426dadb-6dee-4f72-e329-22095ef212a8"
   },
   "outputs": [
    {
     "name": "stdout",
     "output_type": "stream",
     "text": [
      "No! 0.10543495050630257\n"
     ]
    }
   ],
   "source": [
    "res = ttest_ind(overall_f1_compare,overall_f1)\n",
    "t = res[0]\n",
    "p = res[1]\n",
    "alpha = 0.1\n",
    "# test if A > B\n",
    "if p/2 < alpha and t>0:\n",
    "  # reject the null hypothesis (no effect) => A > B !!\n",
    "  print('Yes!')\n",
    "else:\n",
    "  # accept the null hypothesis => no effect\n",
    "  print('No!', p/2)"
   ]
  },
  {
   "cell_type": "markdown",
   "metadata": {
    "id": "21YLXaaOlcep"
   },
   "source": [
    "### Modified ParamCount - EWC Freeze"
   ]
  },
  {
   "cell_type": "code",
   "execution_count": null,
   "metadata": {
    "id": "VYQ0peqgmTwM"
   },
   "outputs": [],
   "source": [
    "import pickle\n",
    "import torch"
   ]
  },
  {
   "cell_type": "code",
   "execution_count": null,
   "metadata": {
    "id": "EhmYxyzWndeB"
   },
   "outputs": [],
   "source": [
    "import io\n",
    "\n",
    "class CPU_Unpickler(pickle.Unpickler):\n",
    "    def find_class(self, module, name):\n",
    "        if module == 'torch.storage' and name == '_load_from_bytes':\n",
    "            return lambda b: torch.load(io.BytesIO(b), map_location='cpu')\n",
    "        else:\n",
    "            return super().find_class(module, name)"
   ]
  },
  {
   "cell_type": "code",
   "execution_count": null,
   "metadata": {
    "id": "_ICa2PIFl9nJ"
   },
   "outputs": [],
   "source": [
    "path3 = 's200r-EWCFreeze-v2.4/modified_paramcount_random'"
   ]
  },
  {
   "cell_type": "code",
   "execution_count": null,
   "metadata": {
    "id": "2wndK2LslgW0"
   },
   "outputs": [],
   "source": [
    "check_counts = {}\n",
    "for seed in [0,101,2650]:\n",
    "    for rand_idx in [0,3,6]:\n",
    "        for m in [1,2,3,4,5]:\n",
    "            with open(path3+str(rand_idx)+'_seed'+str(seed)+'model_'+str(m)+'.pkl', 'rb') as handle:\n",
    "                # temp = torch.load(handle, map_location=torch.device('cpu'))\n",
    "                temp = CPU_Unpickler(handle).load()\n",
    "                check_counts['random'+str(rand_idx)+'seed'+str(seed)+'model'+str(m)] = temp\n"
   ]
  },
  {
   "cell_type": "code",
   "execution_count": null,
   "metadata": {
    "colab": {
     "base_uri": "https://localhost:8080/"
    },
    "id": "bogUMt12nudl",
    "outputId": "581d1a78-2ae1-43c9-a84f-c8cc08c526a0"
   },
   "outputs": [
    {
     "name": "stdout",
     "output_type": "stream",
     "text": [
      "bert.encoder.layer.0.attention.output.LayerNorm.weight tensor(767)\n",
      "bert.encoder.layer.0.attention.output.LayerNorm.bias tensor(763)\n",
      "bert.encoder.layer.0.attention.output.adapter.fc1.weight tensor(1526263)\n",
      "bert.encoder.layer.0.attention.output.adapter.fc1.bias tensor(1993)\n",
      "bert.encoder.layer.0.attention.output.adapter.fc2.weight tensor(1514594)\n",
      "bert.encoder.layer.0.attention.output.adapter.fc2.bias tensor(760)\n",
      "bert.encoder.layer.0.output.LayerNorm.weight tensor(767)\n",
      "bert.encoder.layer.0.output.LayerNorm.bias tensor(760)\n",
      "bert.encoder.layer.0.output.adapter.fc1.weight tensor(1529991)\n",
      "bert.encoder.layer.0.output.adapter.fc1.bias tensor(1993)\n",
      "bert.encoder.layer.0.output.adapter.fc2.weight tensor(1525499)\n",
      "bert.encoder.layer.0.output.adapter.fc2.bias tensor(761)\n",
      "bert.encoder.layer.1.attention.output.LayerNorm.weight tensor(767)\n",
      "bert.encoder.layer.1.attention.output.LayerNorm.bias tensor(763)\n",
      "bert.encoder.layer.1.attention.output.adapter.fc1.weight tensor(1528659)\n",
      "bert.encoder.layer.1.attention.output.adapter.fc1.bias tensor(1991)\n",
      "bert.encoder.layer.1.attention.output.adapter.fc2.weight tensor(1522899)\n",
      "bert.encoder.layer.1.attention.output.adapter.fc2.bias tensor(763)\n",
      "bert.encoder.layer.1.output.LayerNorm.weight tensor(764)\n",
      "bert.encoder.layer.1.output.LayerNorm.bias tensor(764)\n",
      "bert.encoder.layer.1.output.adapter.fc1.weight tensor(1529676)\n",
      "bert.encoder.layer.1.output.adapter.fc1.bias tensor(1990)\n",
      "bert.encoder.layer.1.output.adapter.fc2.weight tensor(1525625)\n",
      "bert.encoder.layer.1.output.adapter.fc2.bias tensor(764)\n",
      "bert.encoder.layer.2.attention.output.LayerNorm.weight tensor(765)\n",
      "bert.encoder.layer.2.attention.output.LayerNorm.bias tensor(765)\n",
      "bert.encoder.layer.2.attention.output.adapter.fc1.weight tensor(1527566)\n",
      "bert.encoder.layer.2.attention.output.adapter.fc1.bias tensor(1992)\n",
      "bert.encoder.layer.2.attention.output.adapter.fc2.weight tensor(1520208)\n",
      "bert.encoder.layer.2.attention.output.adapter.fc2.bias tensor(764)\n",
      "bert.encoder.layer.2.output.LayerNorm.weight tensor(766)\n",
      "bert.encoder.layer.2.output.LayerNorm.bias tensor(764)\n",
      "bert.encoder.layer.2.output.adapter.fc1.weight tensor(1528640)\n",
      "bert.encoder.layer.2.output.adapter.fc1.bias tensor(1993)\n",
      "bert.encoder.layer.2.output.adapter.fc2.weight tensor(1522066)\n",
      "bert.encoder.layer.2.output.adapter.fc2.bias tensor(765)\n",
      "bert.encoder.layer.3.attention.output.LayerNorm.weight tensor(767)\n",
      "bert.encoder.layer.3.attention.output.LayerNorm.bias tensor(759)\n",
      "bert.encoder.layer.3.attention.output.adapter.fc1.weight tensor(1524715)\n",
      "bert.encoder.layer.3.attention.output.adapter.fc1.bias tensor(1985)\n",
      "bert.encoder.layer.3.attention.output.adapter.fc2.weight tensor(1517412)\n",
      "bert.encoder.layer.3.attention.output.adapter.fc2.bias tensor(759)\n",
      "bert.encoder.layer.3.output.LayerNorm.weight tensor(763)\n",
      "bert.encoder.layer.3.output.LayerNorm.bias tensor(761)\n",
      "bert.encoder.layer.3.output.adapter.fc1.weight tensor(1525775)\n",
      "bert.encoder.layer.3.output.adapter.fc1.bias tensor(1990)\n",
      "bert.encoder.layer.3.output.adapter.fc2.weight tensor(1517563)\n",
      "bert.encoder.layer.3.output.adapter.fc2.bias tensor(761)\n",
      "bert.encoder.layer.4.attention.output.LayerNorm.weight tensor(765)\n",
      "bert.encoder.layer.4.attention.output.LayerNorm.bias tensor(757)\n",
      "bert.encoder.layer.4.attention.output.adapter.fc1.weight tensor(1520433)\n",
      "bert.encoder.layer.4.attention.output.adapter.fc1.bias tensor(1975)\n",
      "bert.encoder.layer.4.attention.output.adapter.fc2.weight tensor(1506940)\n",
      "bert.encoder.layer.4.attention.output.adapter.fc2.bias tensor(761)\n",
      "bert.encoder.layer.4.output.LayerNorm.weight tensor(761)\n",
      "bert.encoder.layer.4.output.LayerNorm.bias tensor(753)\n",
      "bert.encoder.layer.4.output.adapter.fc1.weight tensor(1523961)\n",
      "bert.encoder.layer.4.output.adapter.fc1.bias tensor(1977)\n",
      "bert.encoder.layer.4.output.adapter.fc2.weight tensor(1514059)\n",
      "bert.encoder.layer.4.output.adapter.fc2.bias tensor(753)\n",
      "bert.encoder.layer.5.attention.output.LayerNorm.weight tensor(763)\n",
      "bert.encoder.layer.5.attention.output.LayerNorm.bias tensor(753)\n",
      "bert.encoder.layer.5.attention.output.adapter.fc1.weight tensor(1521973)\n",
      "bert.encoder.layer.5.attention.output.adapter.fc1.bias tensor(1972)\n",
      "bert.encoder.layer.5.attention.output.adapter.fc2.weight tensor(1511072)\n",
      "bert.encoder.layer.5.attention.output.adapter.fc2.bias tensor(751)\n",
      "bert.encoder.layer.5.output.LayerNorm.weight tensor(758)\n",
      "bert.encoder.layer.5.output.LayerNorm.bias tensor(745)\n",
      "bert.encoder.layer.5.output.adapter.fc1.weight tensor(1519538)\n",
      "bert.encoder.layer.5.output.adapter.fc1.bias tensor(1959)\n",
      "bert.encoder.layer.5.output.adapter.fc2.weight tensor(1504636)\n",
      "bert.encoder.layer.5.output.adapter.fc2.bias tensor(751)\n",
      "bert.encoder.layer.6.attention.output.LayerNorm.weight tensor(759)\n",
      "bert.encoder.layer.6.attention.output.LayerNorm.bias tensor(738)\n",
      "bert.encoder.layer.6.attention.output.adapter.fc1.weight tensor(1513015)\n",
      "bert.encoder.layer.6.attention.output.adapter.fc1.bias tensor(1967)\n",
      "bert.encoder.layer.6.attention.output.adapter.fc2.weight tensor(1500502)\n",
      "bert.encoder.layer.6.attention.output.adapter.fc2.bias tensor(757)\n",
      "bert.encoder.layer.6.output.LayerNorm.weight tensor(751)\n",
      "bert.encoder.layer.6.output.LayerNorm.bias tensor(730)\n",
      "bert.encoder.layer.6.output.adapter.fc1.weight tensor(1515834)\n",
      "bert.encoder.layer.6.output.adapter.fc1.bias tensor(1950)\n",
      "bert.encoder.layer.6.output.adapter.fc2.weight tensor(1494158)\n",
      "bert.encoder.layer.6.output.adapter.fc2.bias tensor(747)\n",
      "bert.encoder.layer.7.attention.output.LayerNorm.weight tensor(745)\n",
      "bert.encoder.layer.7.attention.output.LayerNorm.bias tensor(733)\n",
      "bert.encoder.layer.7.attention.output.adapter.fc1.weight tensor(1498032)\n",
      "bert.encoder.layer.7.attention.output.adapter.fc1.bias tensor(1916)\n",
      "bert.encoder.layer.7.attention.output.adapter.fc2.weight tensor(1491691)\n",
      "bert.encoder.layer.7.attention.output.adapter.fc2.bias tensor(747)\n",
      "bert.encoder.layer.7.output.LayerNorm.weight tensor(723)\n",
      "bert.encoder.layer.7.output.LayerNorm.bias tensor(708)\n",
      "bert.encoder.layer.7.output.adapter.fc1.weight tensor(1486094)\n",
      "bert.encoder.layer.7.output.adapter.fc1.bias tensor(1876)\n",
      "bert.encoder.layer.7.output.adapter.fc2.weight tensor(1459123)\n",
      "bert.encoder.layer.7.output.adapter.fc2.bias tensor(721)\n",
      "bert.encoder.layer.8.attention.output.LayerNorm.weight tensor(686)\n",
      "bert.encoder.layer.8.attention.output.LayerNorm.bias tensor(662)\n",
      "bert.encoder.layer.8.attention.output.adapter.fc1.weight tensor(1437538)\n",
      "bert.encoder.layer.8.attention.output.adapter.fc1.bias tensor(1837)\n",
      "bert.encoder.layer.8.attention.output.adapter.fc2.weight tensor(1413853)\n",
      "bert.encoder.layer.8.attention.output.adapter.fc2.bias tensor(691)\n",
      "bert.encoder.layer.8.output.LayerNorm.weight tensor(660)\n",
      "bert.encoder.layer.8.output.LayerNorm.bias tensor(623)\n",
      "bert.encoder.layer.8.output.adapter.fc1.weight tensor(1397494)\n",
      "bert.encoder.layer.8.output.adapter.fc1.bias tensor(1661)\n",
      "bert.encoder.layer.8.output.adapter.fc2.weight tensor(1347725)\n",
      "bert.encoder.layer.8.output.adapter.fc2.bias tensor(653)\n",
      "bert.encoder.layer.9.attention.output.LayerNorm.weight tensor(514)\n",
      "bert.encoder.layer.9.attention.output.LayerNorm.bias tensor(506)\n",
      "bert.encoder.layer.9.attention.output.adapter.fc1.weight tensor(1144517)\n",
      "bert.encoder.layer.9.attention.output.adapter.fc1.bias tensor(1529)\n",
      "bert.encoder.layer.9.attention.output.adapter.fc2.weight tensor(1188540)\n",
      "bert.encoder.layer.9.attention.output.adapter.fc2.bias tensor(592)\n",
      "bert.encoder.layer.9.output.LayerNorm.weight tensor(460)\n",
      "bert.encoder.layer.9.output.LayerNorm.bias tensor(440)\n",
      "bert.encoder.layer.9.output.adapter.fc1.weight tensor(971042)\n",
      "bert.encoder.layer.9.output.adapter.fc1.bias tensor(1248)\n",
      "bert.encoder.layer.9.output.adapter.fc2.weight tensor(1116394)\n",
      "bert.encoder.layer.9.output.adapter.fc2.bias tensor(533)\n",
      "bert.encoder.layer.10.attention.output.LayerNorm.weight tensor(349)\n",
      "bert.encoder.layer.10.attention.output.LayerNorm.bias tensor(367)\n",
      "bert.encoder.layer.10.attention.output.adapter.fc1.weight tensor(898925)\n",
      "bert.encoder.layer.10.attention.output.adapter.fc1.bias tensor(1219)\n",
      "bert.encoder.layer.10.attention.output.adapter.fc2.weight tensor(1121550)\n",
      "bert.encoder.layer.10.attention.output.adapter.fc2.bias tensor(522)\n",
      "bert.encoder.layer.10.output.LayerNorm.weight tensor(317)\n",
      "bert.encoder.layer.10.output.LayerNorm.bias tensor(300)\n",
      "bert.encoder.layer.10.output.adapter.fc1.weight tensor(712974)\n",
      "bert.encoder.layer.10.output.adapter.fc1.bias tensor(955)\n",
      "bert.encoder.layer.10.output.adapter.fc2.weight tensor(886871)\n",
      "bert.encoder.layer.10.output.adapter.fc2.bias tensor(425)\n",
      "bert.encoder.layer.11.attention.output.LayerNorm.weight tensor(175)\n",
      "bert.encoder.layer.11.attention.output.LayerNorm.bias tensor(177)\n",
      "bert.encoder.layer.11.attention.output.adapter.fc1.weight tensor(584582)\n",
      "bert.encoder.layer.11.attention.output.adapter.fc1.bias tensor(749)\n",
      "bert.encoder.layer.11.attention.output.adapter.fc2.weight tensor(922154)\n",
      "bert.encoder.layer.11.attention.output.adapter.fc2.bias tensor(409)\n",
      "bert.encoder.layer.11.output.LayerNorm.weight tensor(127)\n",
      "bert.encoder.layer.11.output.LayerNorm.bias tensor(127)\n",
      "bert.encoder.layer.11.output.adapter.fc1.weight tensor(349983)\n",
      "bert.encoder.layer.11.output.adapter.fc1.bias tensor(406)\n",
      "bert.encoder.layer.11.output.adapter.fc2.weight tensor(814534)\n",
      "bert.encoder.layer.11.output.adapter.fc2.bias tensor(326)\n"
     ]
    }
   ],
   "source": [
    "for k,v in check_counts['random6seed2650model5'].items():\n",
    "  print(k,v)"
   ]
  },
  {
   "cell_type": "markdown",
   "metadata": {
    "id": "bp-044iD-kAF"
   },
   "source": [
    "### Unstable ParamCount"
   ]
  },
  {
   "cell_type": "code",
   "execution_count": null,
   "metadata": {
    "id": "9JkH7zDv-nY0"
   },
   "outputs": [],
   "source": [
    "import pickle\n",
    "import torch"
   ]
  },
  {
   "cell_type": "code",
   "execution_count": null,
   "metadata": {
    "id": "dih7B_pf-sGV"
   },
   "outputs": [],
   "source": [
    "import io\n",
    "\n",
    "class CPU_Unpickler(pickle.Unpickler):\n",
    "    def find_class(self, module, name):\n",
    "        if module == 'torch.storage' and name == '_load_from_bytes':\n",
    "            return lambda b: torch.load(io.BytesIO(b), map_location='cpu')\n",
    "        else:\n",
    "            return super().find_class(module, name)"
   ]
  },
  {
   "cell_type": "code",
   "execution_count": null,
   "metadata": {
    "id": "l6koKEDD-upg"
   },
   "outputs": [],
   "source": [
    "path3 = '/content/gdrive/MyDrive/s200_kan_myocc_attributions_lfa/s200rME3-EWCFreeze-v2.1-IC/random'"
   ]
  },
  {
   "cell_type": "code",
   "execution_count": null,
   "metadata": {
    "id": "U-Fr8rEG_JxP"
   },
   "outputs": [],
   "source": [
    "check_counts = {}\n",
    "# for seed in [0,101,2650]:\n",
    "for seed in [0]:\n",
    "    # for rand_idx in [0,3,6]:\n",
    "    for rand_idx in [0]:\n",
    "        for m in [1,2,3,4,5]:\n",
    "            with open(path3+str(rand_idx)+'_seed'+str(seed)+'model_'+str(m)+'_instability_paramcount.pkl', 'rb') as handle:\n",
    "                # temp = torch.load(handle, map_location=torch.device('cpu'))\n",
    "                temp = CPU_Unpickler(handle).load()\n",
    "                check_counts['random'+str(rand_idx)+'seed'+str(seed)+'model'+str(m)] = temp"
   ]
  },
  {
   "cell_type": "code",
   "execution_count": null,
   "metadata": {
    "colab": {
     "base_uri": "https://localhost:8080/"
    },
    "id": "NMyUMdo6AwSi",
    "outputId": "d75b5a28-91af-4f25-d021-dc2ab905145a"
   },
   "outputs": [
    {
     "name": "stdout",
     "output_type": "stream",
     "text": [
      "bert.encoder.layer.0.attention.output.LayerNorm.weight tensor(740)\n"
     ]
    }
   ],
   "source": [
    "for k,v in check_counts['random0seed0model3'].items():\n",
    "  print(k,v)\n",
    "  break"
   ]
  },
  {
   "cell_type": "markdown",
   "metadata": {},
   "source": [
    "### Relative Fisher"
   ]
  },
  {
   "cell_type": "code",
   "execution_count": 11,
   "metadata": {},
   "outputs": [],
   "source": [
    "import pickle\n",
    "import torch\n",
    "import matplotlib.pyplot as plt\n",
    "import numpy as np"
   ]
  },
  {
   "cell_type": "code",
   "execution_count": 2,
   "metadata": {},
   "outputs": [],
   "source": [
    "import io\n",
    "\n",
    "class CPU_Unpickler(pickle.Unpickler):\n",
    "    def find_class(self, module, name):\n",
    "        if module == 'torch.storage' and name == '_load_from_bytes':\n",
    "            return lambda b: torch.load(io.BytesIO(b), map_location='cpu')\n",
    "        else:\n",
    "            return super().find_class(module, name)"
   ]
  },
  {
   "cell_type": "code",
   "execution_count": 5,
   "metadata": {},
   "outputs": [],
   "source": [
    "path3 = 'D:\\\\2110465-PhD Data (DO NOT DELETE)\\\\hwu-SingleHead\\\\hwuRBS.2-EWCFreeze-v17.2\\\\Relative_Fisher\\\\random'"
   ]
  },
  {
   "cell_type": "code",
   "execution_count": 6,
   "metadata": {},
   "outputs": [],
   "source": [
    "alpha = {}\n",
    "for seed in [0]:\n",
    "    # for rand_idx in [0,3,6]:\n",
    "    for rand_idx in [0]:\n",
    "        for m in [1,2,3,4,5]:\n",
    "            with open(path3+str(rand_idx)+'_seed'+str(seed)+'model_'+str(m)+'_relative_fisher.pkl', 'rb') as handle:\n",
    "                # temp = torch.load(handle, map_location=torch.device('cpu'))\n",
    "                temp = CPU_Unpickler(handle).load()\n",
    "                alpha['random'+str(rand_idx)+'seed'+str(seed)+'model'+str(m)] = temp"
   ]
  },
  {
   "cell_type": "code",
   "execution_count": null,
   "metadata": {},
   "outputs": [],
   "source": [
    "fig, axs = plt.subplots(1, 5, sharex='all', sharey='all')\n",
    "for i in [1,2,3,4,5]:\n",
    "    all_val = torch.tensor(0)\n",
    "    for k,v in alpha['random0seed0model'+str(i)].items():\n",
    "        all_val = torch.hstack([all_val,v.flatten()])\n",
    "    axs[i-1].boxplot(all_val)"
   ]
  },
  {
   "cell_type": "code",
   "execution_count": 18,
   "metadata": {
    "collapsed": true
   },
   "outputs": [
    {
     "data": {
      "image/png": "[encoded data removed]",
      "text/plain": [
       "<Figure size 432x288 with 5 Axes>"
      ]
     },
     "metadata": {
      "needs_background": "light"
     },
     "output_type": "display_data"
    }
   ],
   "source": [
    "fig, axs = plt.subplots(1, 5, sharex='all', sharey='all')\n",
    "for i in [1,2,3,4,5]:\n",
    "    for k,v in alpha['random0seed0model'+str(i)].items():\n",
    "        if 'layer.11' in k:\n",
    "            y=v.flatten().numpy()\n",
    "            axs[i-1].boxplot(y)\n",
    "            break"
   ]
  },
  {
   "cell_type": "code",
   "execution_count": 19,
   "metadata": {
    "collapsed": true
   },
   "outputs": [
    {
     "data": {
      "image/png": "[encoded data removed]",
      "text/plain": [
       "<Figure size 432x288 with 5 Axes>"
      ]
     },
     "metadata": {
      "needs_background": "light"
     },
     "output_type": "display_data"
    }
   ],
   "source": [
    "fig, axs = plt.subplots(1, 5, sharex='all', sharey='all')\n",
    "for i in [1,2,3,4,5]:\n",
    "    for k,v in alpha['random0seed0model'+str(i)].items():\n",
    "        if 'layer.8' in k:\n",
    "            y=v.flatten().numpy()\n",
    "            axs[i-1].boxplot(y)\n",
    "            break"
   ]
  },
  {
   "cell_type": "code",
   "execution_count": 20,
   "metadata": {
    "collapsed": true
   },
   "outputs": [
    {
     "data": {
      "image/png": "[encoded data removed]",
      "text/plain": [
       "<Figure size 432x288 with 5 Axes>"
      ]
     },
     "metadata": {
      "needs_background": "light"
     },
     "output_type": "display_data"
    }
   ],
   "source": [
    "fig, axs = plt.subplots(1, 5, sharex='all', sharey='all')\n",
    "for i in [1,2,3,4,5]:\n",
    "    for k,v in alpha['random0seed0model'+str(i)].items():\n",
    "        if 'layer.5' in k:\n",
    "            y=v.flatten().numpy()\n",
    "            axs[i-1].boxplot(y)\n",
    "            break"
   ]
  },
  {
   "cell_type": "code",
   "execution_count": 21,
   "metadata": {
    "collapsed": true
   },
   "outputs": [
    {
     "data": {
      "image/png": "[encoded data removed]",
      "text/plain": [
       "<Figure size 432x288 with 5 Axes>"
      ]
     },
     "metadata": {
      "needs_background": "light"
     },
     "output_type": "display_data"
    }
   ],
   "source": [
    "fig, axs = plt.subplots(1, 5, sharex='all', sharey='all')\n",
    "for i in [1,2,3,4,5]:\n",
    "    for k,v in alpha['random0seed0model'+str(i)].items():\n",
    "        if 'layer.2' in k:\n",
    "            y=v.flatten().numpy()\n",
    "            axs[i-1].boxplot(y)\n",
    "            break"
   ]
  },
  {
   "cell_type": "markdown",
   "metadata": {},
   "source": [
    "### Number of epochs"
   ]
  },
  {
   "cell_type": "code",
   "execution_count": 51,
   "metadata": {},
   "outputs": [],
   "source": [
    "path5 = 'D:\\\\2110465-PhD Data (DO NOT DELETE)\\\\hwu-SingleHead\\\\hwuRBS.1-EWCFreeze-v17.2\\\\hwuRBS.1-EWCFreeze-v17.2-20230731T181048Z-001\\\\hwuRBS.1-EWCFreeze-v17.2\\\\hwu64_bert_adapter_ewc_freeze_fo_train_f1_macro_'"
   ]
  },
  {
   "cell_type": "code",
   "execution_count": 58,
   "metadata": {},
   "outputs": [
    {
     "name": "stdout",
     "output_type": "stream",
     "text": [
      "[12, 16, 22, 25, 34, 9, 8, 26, 36, 40, 9, 17, 18, 19, 37]\n",
      "4.373333333333334\n"
     ]
    }
   ],
   "source": [
    "epochs=[]\n",
    "for seed_idx in [0]:\n",
    "    for rand_idx in [0,3,6]:\n",
    "        for m in [1,2,3,4,5]:\n",
    "            data = np.loadtxt(path5+str(m)+'_random'+str(rand_idx)+'_seed'+str(seed_idx)+'.txt')\n",
    "            epochs.append(len(data))\n",
    "print(epochs)\n",
    "print(0.2*np.mean(epochs))"
   ]
  },
  {
   "cell_type": "markdown",
   "metadata": {},
   "source": [
    "### Delta F1 vs CF"
   ]
  },
  {
   "cell_type": "code",
   "execution_count": 45,
   "metadata": {},
   "outputs": [],
   "source": [
    "path4 = 'D:\\\\2110465-PhD Data (DO NOT DELETE)\\\\hwu-SingleHead\\\\hwuRBS.1-EWCMaxL1\\\\hwuRBS.1-EWCMaxL1\\\\hwu64_bert_adapter_ewc_random'"
   ]
  },
  {
   "cell_type": "code",
   "execution_count": 47,
   "metadata": {},
   "outputs": [
    {
     "name": "stdout",
     "output_type": "stream",
     "text": [
      "[[0.9379 0.     0.     0.     0.     0.    ]\n",
      " [0.8755 0.9152 0.     0.     0.     0.    ]\n",
      " [0.7858 0.5703 0.817  0.     0.     0.    ]\n",
      " [0.6551 0.4959 0.3279 0.9256 0.     0.    ]\n",
      " [0.6181 0.4284 0.3962 0.6567 0.4559 0.    ]\n",
      " [0.2451 0.2155 0.1255 0.3463 0.1334 0.6115]]\n",
      "[0.06240000000000001, 0.3449, 0.4890999999999999, 0.26890000000000003, 0.373]\n",
      "[[0.6907 0.     0.     0.     0.     0.    ]\n",
      " [0.4666 0.9617 0.     0.     0.     0.    ]\n",
      " [0.1405 0.8756 0.9019 0.     0.     0.    ]\n",
      " [0.1047 0.5934 0.5488 0.9805 0.     0.    ]\n",
      " [0.017  0.4228 0.1865 0.7553 0.9706 0.    ]\n",
      " [0.0087 0.3188 0.1566 0.4661 0.5279 0.6919]]\n",
      "[0.22409999999999997, 0.3261, 0.3531000000000001, 0.36229999999999996, 0.4427]\n",
      "[[0.6887 0.     0.     0.     0.     0.    ]\n",
      " [0.5908 0.7438 0.     0.     0.     0.    ]\n",
      " [0.3732 0.3193 0.9133 0.     0.     0.    ]\n",
      " [0.3931 0.3244 0.7498 0.9282 0.     0.    ]\n",
      " [0.0093 0.0056 0.2203 0.2625 0.8975 0.    ]\n",
      " [0.1006 0.1727 0.2245 0.4007 0.3805 0.9397]]\n",
      "[0.09789999999999999, 0.42450000000000004, 0.16349999999999998, 0.6657, 0.5169999999999999]\n",
      "0\n"
     ]
    }
   ],
   "source": [
    "overall_f1 = []\n",
    "forgetting = []\n",
    "best_f1 = []\n",
    "worst_f1 = []\n",
    "for seed_idx in [0]:\n",
    "    for rand_idx in [0,3,6]:\n",
    "        list_of_lists = []\n",
    "        with open(path4+str(rand_idx)+'_seed'+str(seed_idx)+'_f1.txt', 'r') as f:\n",
    "            for line in f:\n",
    "                inner_list = [float(elt.strip()) for elt in line.split('\\t')]\n",
    "                list_of_lists.append(inner_list)\n",
    "        f1_matrix = np.array(list_of_lists)\n",
    "        assert f1_matrix.shape == (6,6)\n",
    "        print(f1_matrix)\n",
    "        forgetting = []\n",
    "        for i in [1,2,3,4,5]:\n",
    "            temp_forgetting = []\n",
    "            for j in range(i):\n",
    "                temp_forgetting.append(f1_matrix[i-1,j]-f1_matrix[i,j])\n",
    "            forgetting.append(np.max(temp_forgetting))\n",
    "        print(forgetting)\n",
    "print(len(overall_f1))"
   ]
  },
  {
   "cell_type": "code",
   "execution_count": 49,
   "metadata": {},
   "outputs": [
    {
     "data": {
      "text/plain": [
       "<matplotlib.collections.PathCollection at 0x2c343ae39a0>"
      ]
     },
     "execution_count": 49,
     "metadata": {},
     "output_type": "execute_result"
    },
    {
     "data": {
      "image/png": "[encoded data removed]",
      "text/plain": [
       "<Figure size 432x288 with 1 Axes>"
      ]
     },
     "metadata": {
      "needs_background": "light"
     },
     "output_type": "display_data"
    }
   ],
   "source": [
    "y1 = [96,86,94,68,31,76,85,97,98,57,68,70,95,73,82]\n",
    "y2 = [6,22,23,8,30,22,21,22,21,17,10,32,5,47,2]\n",
    "y3 = [6,34,49,27,37,22,33,35,36,44,10,42,16,67,52]\n",
    "plt.scatter(y1,y2)"
   ]
  },
  {
   "cell_type": "code",
   "execution_count": 50,
   "metadata": {},
   "outputs": [
    {
     "name": "stdout",
     "output_type": "stream",
     "text": [
      "(-0.28397114492068043, 0.3050251091880336)\n",
      "(-0.16608377261581267, 0.5541393474268593)\n"
     ]
    }
   ],
   "source": [
    "from scipy.stats.stats import pearsonr\n",
    "print(pearsonr(y1,y2))\n",
    "print(pearsonr(y1,y3))"
   ]
  },
  {
   "cell_type": "markdown",
   "metadata": {
    "id": "C78LSHg0NrmD"
   },
   "source": [
    "### Sensitivity Graph"
   ]
  },
  {
   "cell_type": "code",
   "execution_count": 16,
   "metadata": {
    "colab": {
     "base_uri": "https://localhost:8080/",
     "height": 456
    },
    "id": "ulHYenUrNpGD",
    "outputId": "14d93ba6-21da-459e-f7d5-8dc512721df3"
   },
   "outputs": [
    {
     "data": {
      "image/png": "[encoded data removed]",
      "text/plain": [
       "<Figure size 640x480 with 1 Axes>"
      ]
     },
     "metadata": {},
     "output_type": "display_data"
    }
   ],
   "source": [
    "import matplotlib.pyplot as plt\n",
    "\n",
    "x_i = [5, 25, 50, 75]\n",
    "y1 = [15.88, 23.17, 27.75, 20.78]\n",
    "y2 = [41.18, 43.28, 36.79, 40.00]\n",
    "x_b = [5,25,50,100]\n",
    "y3 = [48.93,48.73,48.72,48.88]\n",
    "y4 = [50.72,51.11,48.59,47.82]\n",
    "x_s = [5,25,50,100]\n",
    "y5 = [84.32,84.74,84.72,84.68]\n",
    "y6 = [84.67,84.69,84.58,84.66]\n",
    "\n",
    "plt.plot(x_i, y1, label ='EWC (Intent)')\n",
    "plt.plot(x_i, y2, '-v', label ='LA EWC (Intent)')\n",
    "plt.plot(x_b, y3, '-.', label ='EWC (Behaviour)')\n",
    "plt.plot(x_b, y4, '-.v', label ='LA EWC (Behaviour)')\n",
    "plt.plot(x_s, y5, '--', label ='EWC (Sentiment)')\n",
    "plt.plot(x_s, y6, '--v', label ='LA EWC (Sentiment)')\n",
    "\n",
    "plt.xlabel(\"$\\lambda$ (Intent: x $10^5$, Behaviour: x $10^3$, Sentiment: x $10^3$)\")\n",
    "plt.ylabel(\"Overall F1\")\n",
    "plt.legend()\n",
    "# plt.title('Sensitivity analysis')\n",
    "plt.show()"
   ]
  },
  {
   "cell_type": "code",
   "execution_count": null,
   "metadata": {
    "id": "h9ZI7uaXawpA"
   },
   "outputs": [],
   "source": [
    "import matplotlib.pyplot as plt\n",
    "\n",
    "x_i = [2.5,15,50,75]\n",
    "y1 = [84.04,93.65,92.86,]\n",
    "y2 = [95.22,95.29,,]\n",
    "x_b = [1,15,50]\n",
    "y3 = [39.30,40.31,]\n",
    "y4 = [45.66,45.76,]\n",
    "x_s = [5,15,50]\n",
    "y5 = [77.96,76.97,]\n",
    "y6 = [82.42,81.96,]\n",
    "\n",
    "plt.plot(x_i, y1, label ='MAS (Intent)')\n",
    "plt.plot(x_i, y2, '-v', label ='LA MAS (Intent)')\n",
    "plt.plot(x_b, y3, '-.', label ='MAS (Behaviour)')\n",
    "plt.plot(x_b, y4, '-.v', label ='LA MAS (Behaviour)')\n",
    "plt.plot(x_s, y5, '--', label ='MAS (Sentiment)')\n",
    "plt.plot(x_s, y6, '--v', label ='LA MAS (Sentiment)')\n",
    "\n",
    "plt.xlabel(\"$\\lambda$ (Intent: x $10^3$, Behaviour: x $10^-1$, Sentiment: x $10^-1$)\")\n",
    "plt.ylabel(\"Overall F1\")\n",
    "plt.legend()\n",
    "# plt.title('Sensitivity analysis')\n",
    "plt.show()"
   ]
  }
 ],
 "metadata": {
  "colab": {
   "provenance": []
  },
  "kernelspec": {
   "display_name": "Python 3",
   "language": "python",
   "name": "python3"
  },
  "language_info": {
   "codemirror_mode": {
    "name": "ipython",
    "version": 3
   },
   "file_extension": ".py",
   "mimetype": "text/x-python",
   "name": "python",
   "nbconvert_exporter": "python",
   "pygments_lexer": "ipython3",
   "version": "3.8.8"
  }
 },
 "nbformat": 4,
 "nbformat_minor": 1
}
