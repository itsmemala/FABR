{
  "nbformat": 4,
  "nbformat_minor": 0,
  "metadata": {
    "colab": {
      "private_outputs": true,
      "provenance": []
    },
    "kernelspec": {
      "name": "python3",
      "display_name": "Python 3"
    },
    "language_info": {
      "name": "python"
    },
    "accelerator": "GPU",
    "gpuClass": "standard"
  },
  "cells": [
    {
      "cell_type": "code",
      "source": [
        "!nvidia-smi -L"
      ],
      "metadata": {
        "id": "UDak7guRibew"
      },
      "execution_count": null,
      "outputs": []
    },
    {
      "cell_type": "code",
      "execution_count": null,
      "metadata": {
        "id": "Sv4RE0YEAjqY"
      },
      "outputs": [],
      "source": [
        "from google.colab import drive\n",
        "drive.mount('/content/gdrive')"
      ]
    },
    {
      "cell_type": "code",
      "source": [
        "!unzip gdrive/MyDrive//FABR.zip"
      ],
      "metadata": {
        "id": "ABpb6ZLxBKHN"
      },
      "execution_count": null,
      "outputs": []
    },
    {
      "cell_type": "code",
      "source": [
        "# !pip install datasets"
      ],
      "metadata": {
        "id": "GL0jnpQxhIQP"
      },
      "execution_count": null,
      "outputs": []
    },
    {
      "cell_type": "code",
      "source": [
        "!pip install torch==1.7.1"
      ],
      "metadata": {
        "id": "9x7f6c2hA9xe"
      },
      "execution_count": null,
      "outputs": []
    },
    {
      "cell_type": "code",
      "source": [
        "!pip install numpy==1.16.4"
      ],
      "metadata": {
        "id": "egrWmvTDBCAf"
      },
      "execution_count": null,
      "outputs": []
    },
    {
      "cell_type": "code",
      "source": [
        "!pip install transformers==4.18.0"
      ],
      "metadata": {
        "id": "BkwgmNdFBF6X"
      },
      "execution_count": null,
      "outputs": []
    },
    {
      "cell_type": "code",
      "source": [
        "!pip install pytorch_pretrained_bert # for mtl_bert_fine_tune"
      ],
      "metadata": {
        "id": "GLdomD_4uNQ6"
      },
      "execution_count": null,
      "outputs": []
    },
    {
      "cell_type": "code",
      "source": [
        "!pip install torchvision==0.8.1 # for buffer.py"
      ],
      "metadata": {
        "id": "CgS1NNOpuR8K"
      },
      "execution_count": null,
      "outputs": []
    },
    {
      "cell_type": "code",
      "source": [
        "!pip install captum"
      ],
      "metadata": {
        "id": "r95XndiK659n"
      },
      "execution_count": null,
      "outputs": []
    },
    {
      "cell_type": "markdown",
      "source": [
        "### Run"
      ],
      "metadata": {
        "id": "2iafjHz1BUuK"
      }
    },
    {
      "cell_type": "code",
      "source": [
        "# NoMask (fine tuned bert)\n",
        "CUDA_VISIBLE_DEVICES=0\n",
        "!python  FABR//run.py --bert_model 'bert-base-uncased' --experiment bert_dis --subset_data 200 --approach bert_fine_tune --baseline None --note random0 --idrandom 0 --seed 0 --scenario til --train_batch_size 32"
      ],
      "metadata": {
        "id": "VRE96SkdZK5U"
      },
      "execution_count": null,
      "outputs": []
    },
    {
      "cell_type": "code",
      "source": [
        "# MTL (fine tuned bert)\n",
        "CUDA_VISIBLE_DEVICES=0\n",
        "!python  FABR//run.py --bert_model 'bert-base-uncased' --experiment bert_dis --subset_data 200 --approach mtl_bert_fine_tune --baseline None --note random0 --idrandom 0 --seed 0 --scenario til --train_batch_size 32"
      ],
      "metadata": {
        "id": "2h39B9seEXqp"
      },
      "execution_count": null,
      "outputs": []
    },
    {
      "cell_type": "code",
      "source": [
        "# KAN\n",
        "CUDA_VISIBLE_DEVICES=0\n",
        "!python  FABR//run.py --bert_model 'bert-base-uncased' --experiment bert_dis --subset_data 200 --approach bert_gru_kan_ncl --baseline None --note random0 --idrandom 0 --seed 0 --scenario til --train_batch_size 32"
      ],
      "metadata": {
        "id": "QvLpJgPHQb_y"
      },
      "execution_count": null,
      "outputs": []
    },
    {
      "cell_type": "code",
      "source": [
        "# TaskDrop\n",
        "CUDA_VISIBLE_DEVICES=0\n",
        "!python  FABR//run.py --bert_model 'bert-base-uncased' --experiment bert_dis --subset_data 200 --approach taskdrop --baseline None --note random0 --idrandom 0 --seed 0 --scenario til --train_batch_size 32"
      ],
      "metadata": {
        "id": "9HBXPQOoBjai"
      },
      "execution_count": null,
      "outputs": []
    },
    {
      "cell_type": "code",
      "source": [
        "# CTR\n",
        "CUDA_VISIBLE_DEVICES=0\n",
        "!python  FABR//run.py --bert_model 'bert-base-uncased' --experiment bert_dis --subset_data 200 --approach ctr --baseline None --note random0 --idrandom 0 --seed 0 --scenario til --train_batch_size 32 --num_train_epochs 10"
      ],
      "metadata": {
        "id": "Jcw6m8kS0Zkg"
      },
      "execution_count": null,
      "outputs": []
    },
    {
      "cell_type": "code",
      "source": [
        "CUDA_VISIBLE_DEVICES=0\n",
        "!python  FABR//run.py --bert_model 'bert-base-uncased' --experiment bert_dis --subset_data 200 --approach ctr --baseline None --note random2 --idrandom 2 --seed 0 --scenario til --train_batch_size 32 --num_train_epochs 10"
      ],
      "metadata": {
        "id": "iLHuqq9NVX9n"
      },
      "execution_count": null,
      "outputs": []
    },
    {
      "cell_type": "code",
      "source": [
        "# EWC (adapter bert)\n",
        "# with cls_wgts\n",
        "CUDA_VISIBLE_DEVICES=0\n",
        "!python  FABR//run.py --bert_model 'bert-base-uncased' --experiment bert_dis --subset_data 200 --approach bert_adapter_ewc --backbone bert_adapter --baseline ewc --note random0 --idrandom 0 --seed 0 --scenario til --train_batch_size 32 --num_train_epochs 10"
      ],
      "metadata": {
        "id": "yFGWE9CnYwz8"
      },
      "execution_count": null,
      "outputs": []
    },
    {
      "cell_type": "code",
      "source": [
        "# EWC + FABR (adapter bert)\n",
        "# (with saving - ig train attributions)\n",
        "CUDA_VISIBLE_DEVICES=0\n",
        "!python  FABR//run.py --bert_model 'bert-base-uncased' --experiment bert_dis --subset_data 200 --approach bert_adapter_ewc_fabr --backbone bert_adapter --baseline ewc_fabr --note random0 --idrandom 0 --seed 0 --scenario til --train_batch_size 32 --num_train_epochs 10 --fa_method ig --save_metadata train_attributions"
      ],
      "metadata": {
        "id": "-7o1HyLI6zBB"
      },
      "execution_count": null,
      "outputs": []
    },
    {
      "cell_type": "code",
      "source": [
        "# Replay (adapter bert)\n",
        "# with cls_wgts\n",
        "CUDA_VISIBLE_DEVICES=0\n",
        "!python  FABR//run.py --bert_model 'bert-base-uncased' --experiment bert_dis --subset_data 200 --approach bert_adapter_replay --backbone bert_adapter --baseline replay --note random0 --idrandom 0 --seed 0 --scenario til --train_batch_size 32 --num_train_epochs 10"
      ],
      "metadata": {
        "id": "wjplPNK370Iz"
      },
      "execution_count": null,
      "outputs": []
    },
    {
      "cell_type": "code",
      "source": [
        "# With FA Loss\n",
        "CUDA_VISIBLE_DEVICES=0\n",
        "!python  LifelongSentClass//run.py --bert_model 'bert-base-uncased' --experiment bert_dis --approach bert_gru_kan_ncl --note random0 --idrandom 0 --seed 0 --lfa 0 --train_batch_size 32 --lfa_lambda 0.00001"
      ],
      "metadata": {
        "id": "Ocm9-qwrlJJW"
      },
      "execution_count": null,
      "outputs": []
    },
    {
      "cell_type": "markdown",
      "source": [
        "###AnnoMI"
      ],
      "metadata": {
        "id": "IHGMFXRwo23t"
      }
    },
    {
      "cell_type": "code",
      "source": [
        "# ctr\n",
        "CUDA_VISIBLE_DEVICES=0\n",
        "!python  FABR//run.py --bert_model 'bert-base-uncased' --experiment annomi --approach ctr --note random0 --idrandom 0 --seed 0 --scenario til --train_batch_size 32 --num_train_epochs 10"
      ],
      "metadata": {
        "id": "GUOjMAYqo2mb"
      },
      "execution_count": null,
      "outputs": []
    },
    {
      "cell_type": "code",
      "source": [
        "# taskdrop\n",
        "CUDA_VISIBLE_DEVICES=0\n",
        "!python  FABR//run.py --bert_model 'bert-base-uncased' --experiment annomi --approach taskdrop --baseline None --note random0 --idrandom 0 --seed 0 --scenario til --train_batch_size 32"
      ],
      "metadata": {
        "id": "-L3AzOVkW67f"
      },
      "execution_count": null,
      "outputs": []
    },
    {
      "cell_type": "markdown",
      "source": [
        "### 20News"
      ],
      "metadata": {
        "id": "ZHXKiKfAdzhU"
      }
    },
    {
      "cell_type": "code",
      "source": [
        "# CUDA_VISIBLE_DEVICES=0\n",
        "# !python  LifelongSentClass//run.py --bert_model 'bert-base-uncased' --experiment bert_news --approach bert_gru_kan_ncl --note random0 --idrandom 0 --seed 0"
      ],
      "metadata": {
        "id": "fx7xiW-Ubcia"
      },
      "execution_count": null,
      "outputs": []
    }
  ]
}